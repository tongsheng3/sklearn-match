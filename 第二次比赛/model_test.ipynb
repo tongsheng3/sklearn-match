{
 "cells": [
  {
   "cell_type": "code",
   "execution_count": 16,
   "metadata": {},
   "outputs": [],
   "source": [
    "#调入所需要的所以库\n",
    "from sklearn.preprocessing import PolynomialFeatures\n",
    "from sklearn.impute import SimpleImputer as si\n",
    "from sklearn import tree\n",
    "from sklearn.feature_selection import SelectKBest\n",
    "from sklearn.feature_selection import chi2\n",
    "import numpy as np\n",
    "import pandas as pd\n",
    "import torch\n",
    "import torch.nn as nn"
   ]
  },
  {
   "cell_type": "code",
   "execution_count": 3,
   "metadata": {},
   "outputs": [],
   "source": [
    "#用于加载数并进行一些简单的去问号处理\n",
    "def read_data(file_path):\n",
    "    data = pd.read_csv(file_path, header=None)\n",
    "    x = pd.DataFrame(data)\n",
    "    x = x.replace('?',np.nan)\n",
    "    model = si(missing_values=np.nan ,strategy='most_frequent')\n",
    "    x = model.fit_transform(x).astype(np.int)\n",
    "    return x"
   ]
  },
  {
   "cell_type": "code",
   "execution_count": 5,
   "metadata": {},
   "outputs": [],
   "source": [
    "train = read_data('train.csv')\n",
    "test = read_data('test.csv')\n",
    "\n",
    "#采用卡方检验进行特征的提取\n",
    "model = SelectKBest(chi2, k=6)\n",
    "model.fit(train[:,:-1], train[:,-1])\n",
    "train_x = model.transform(train[:,:-1])\n",
    "train_y = train[:,-1]\n",
    "#划分测试集和训练集\n",
    "x1 = train_x[:-1000]\n",
    "y1 = train_y[:-1000]\n",
    "x2 = train_x[-1000:]\n",
    "y2 = train_y[-1000:]"
   ]
  },
  {
   "cell_type": "code",
   "execution_count": 17,
   "metadata": {},
   "outputs": [],
   "source": [
    "#对特征进行升维\n",
    "poly = PolynomialFeatures(degree=3, include_bias = False)\n",
    "poly.fit(x1)\n",
    "X_poly1 = poly.transform(x1)\n",
    "X_poly2 = poly.transform(x2)"
   ]
  },
  {
   "cell_type": "code",
   "execution_count": 8,
   "metadata": {},
   "outputs": [
    {
     "data": {
      "text/plain": [
       "0.29699999999999999"
      ]
     },
     "execution_count": 8,
     "metadata": {},
     "output_type": "execute_result"
    }
   ],
   "source": [
    "#决策树模型\n",
    "clf = tree.DecisionTreeClassifier()\n",
    "clf.fit(x1,y1)\n",
    "clf.score(x2,y2)"
   ]
  },
  {
   "cell_type": "code",
   "execution_count": 18,
   "metadata": {},
   "outputs": [],
   "source": [
    "#搭建神经网络\n",
    "class Net(nn.Module):\n",
    "    \n",
    "    def __init__(self):\n",
    "        super(Net,self).__init__()\n",
    "        self.line = nn.Sequential(\n",
    "            nn.Linear(83,1024),\n",
    "            nn.Dropout(0.5),\n",
    "            nn.ReLU(),\n",
    "            nn.Linear(1024,512),            \n",
    "            nn.ReLU(),\n",
    "            nn.Dropout(0.5),\n",
    "            nn.Linear(512,9)\n",
    "        )\n",
    "    \n",
    "    def forward(self, x):\n",
    "        out = self.line(x)\n",
    "        return out"
   ]
  },
  {
   "cell_type": "code",
   "execution_count": 19,
   "metadata": {},
   "outputs": [
    {
     "name": "stdout",
     "output_type": "stream",
     "text": [
      "0/100 Loss: 14.4903\n",
      "1/100 Loss: 1.8321\n",
      "2/100 Loss: 1.7725\n",
      "3/100 Loss: 1.7342\n",
      "4/100 Loss: 1.7013\n"
     ]
    }
   ],
   "source": [
    "train_x = torch.from_numpy(X_poly1).float()\n",
    "train_y = torch.from_numpy(y1-1)\n",
    "\n",
    "net = Net()\n",
    "loss_fn = nn.CrossEntropyLoss()\n",
    "optimizer = torch.optim.Adam(net.parameters())\n",
    "out = net(train_x)\n",
    "#训练模型\n",
    "for i in range(500):\n",
    "    out = net(train_x)\n",
    "    loss = loss_fn(out, train_y.long())\n",
    "    optimizer.zero_grad()\n",
    "    loss.backward()\n",
    "    optimizer.step()\n",
    "    \n",
    "    if i%100 == 0:\n",
    "        print('%d/100 Loss: %.4f' % (i/100,loss.item()))"
   ]
  },
  {
   "cell_type": "code",
   "execution_count": 20,
   "metadata": {},
   "outputs": [
    {
     "data": {
      "text/plain": [
       "tensor(342)"
      ]
     },
     "execution_count": 20,
     "metadata": {},
     "output_type": "execute_result"
    }
   ],
   "source": [
    "test_x = torch.from_numpy(X_poly2).float()\n",
    "test_y = torch.from_numpy(y2-1)\n",
    "pred = net(test_x)\n",
    "_,pred = torch.max(pred,1)\n",
    "q = (pred-test_y)\n",
    "sum(q==0) #正确的个数"
   ]
  },
  {
   "cell_type": "code",
   "execution_count": null,
   "metadata": {},
   "outputs": [],
   "source": [
    "#最后的模型\n",
    "from sklearn.neighbors import KNeighborsClassifier\n",
    "from sklearn.impute import SimpleImputer as si\n",
    "import numpy as np\n",
    "import pandas as pd\n",
    "\n",
    "#用于加载数并进行一些简单的去问号处理\n",
    "def read_data(file_path):\n",
    "    data = pd.read_csv(file_path, header=None)\n",
    "    x = pd.DataFrame(data)\n",
    "    x = x.replace('?',np.nan)\n",
    "    model = si(missing_values=np.nan ,strategy='most_frequent')\n",
    "    x = model.fit_transform(x).astype(np.int)\n",
    "    return x\n",
    "\n",
    "\n",
    "train = read_data('train.csv')\n",
    "test = read_data('test.csv')\n",
    "#32时效果最好\n",
    "knn = KNeighborsClassifier(k=32)\n",
    "knn.fit(train[:,:-1],train[:,-1])\n",
    "knn.predict(test)"
   ]
  }
 ],
 "metadata": {
  "kernelspec": {
   "display_name": "Python 3",
   "language": "python",
   "name": "python3"
  },
  "language_info": {
   "codemirror_mode": {
    "name": "ipython",
    "version": 3
   },
   "file_extension": ".py",
   "mimetype": "text/x-python",
   "name": "python",
   "nbconvert_exporter": "python",
   "pygments_lexer": "ipython3",
   "version": "3.6.3"
  }
 },
 "nbformat": 4,
 "nbformat_minor": 2
}
