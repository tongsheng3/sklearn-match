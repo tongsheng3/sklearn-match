{
 "cells": [
  {
   "cell_type": "code",
   "execution_count": 31,
   "metadata": {},
   "outputs": [],
   "source": [
    "from sklearn.neighbors import KNeighborsClassifier\n",
    "from sklearn.impute import SimpleImputer as si\n",
    "from sklearn.feature_selection import SelectKBest\n",
    "from sklearn.feature_selection import chi2\n",
    "import numpy as np\n",
    "import pandas as pd"
   ]
  },
  {
   "cell_type": "code",
   "execution_count": 32,
   "metadata": {},
   "outputs": [],
   "source": [
    "def read_data(file_path):\n",
    "    data = pd.read_csv(file_path, header=None)\n",
    "    x = pd.DataFrame(data)\n",
    "    x = x.replace('?',np.nan)\n",
    "    model = si(missing_values=np.nan ,strategy='most_frequent')\n",
    "    x = model.fit_transform(x).astype(np.int)\n",
    "    return x"
   ]
  },
  {
   "cell_type": "code",
   "execution_count": 38,
   "metadata": {},
   "outputs": [],
   "source": [
    "train = read_data('train.csv')\n",
    "test = read_data('test.csv')\n",
    "\n",
    "model = SelectKBest(chi2, k=6)\n",
    "model.fit(train[:,:-1], train[:,-1])\n",
    "\n",
    "train_x = model.transform(train[:,:-1])\n",
    "train_y = train[:,-1]"
   ]
  },
  {
   "cell_type": "code",
   "execution_count": 41,
   "metadata": {},
   "outputs": [],
   "source": [
    "x1 = train_x[:-1000]\n",
    "y1 = train_y[:-1000]\n",
    "x2 = train_x[-1000:]\n",
    "y2 = train_y[-1000:]"
   ]
  },
  {
   "cell_type": "code",
   "execution_count": 42,
   "metadata": {},
   "outputs": [
    {
     "data": {
      "text/plain": [
       "0.32000000000000001"
      ]
     },
     "execution_count": 42,
     "metadata": {},
     "output_type": "execute_result"
    }
   ],
   "source": [
    "knn = KNeighborsClassifier(n_neighbors=32)\n",
    "knn.fit(x1,y1)\n",
    "knn.score(x2,y2)"
   ]
  },
  {
   "cell_type": "code",
   "execution_count": 50,
   "metadata": {},
   "outputs": [],
   "source": [
    "from sklearn.preprocessing import PolynomialFeatures\n",
    "\n",
    "poly = PolynomialFeatures(degree=3, include_bias = False)\n",
    "poly.fit(x1)\n",
    "X_poly1 = poly.transform(x1)\n",
    "X_poly2 = poly.transform(x2)"
   ]
  },
  {
   "cell_type": "code",
   "execution_count": 52,
   "metadata": {},
   "outputs": [
    {
     "data": {
      "text/plain": [
       "(1000, 83)"
      ]
     },
     "execution_count": 52,
     "metadata": {},
     "output_type": "execute_result"
    }
   ],
   "source": [
    "X_poly2.shape"
   ]
  },
  {
   "cell_type": "code",
   "execution_count": 56,
   "metadata": {},
   "outputs": [],
   "source": [
    "import torch\n",
    "import torch.nn as nn\n",
    "\n",
    "class Net(nn.Module):\n",
    "    \n",
    "    def __init__(self):\n",
    "        super(Net,self).__init__()\n",
    "        self.line = nn.Sequential(\n",
    "            nn.Linear(83,1024),\n",
    "            nn.Dropout(0.5),\n",
    "            nn.ReLU(),\n",
    "            nn.Linear(1024,512),            \n",
    "            nn.ReLU(),\n",
    "            nn.Dropout(0.5),\n",
    "            nn.Linear(512,9)\n",
    "        )\n",
    "    \n",
    "    def forward(self, x):\n",
    "        out = self.line(x)\n",
    "        return out"
   ]
  },
  {
   "cell_type": "code",
   "execution_count": 73,
   "metadata": {},
   "outputs": [
    {
     "name": "stdout",
     "output_type": "stream",
     "text": [
      "0/100 Loss: 11.0513\n",
      "1/100 Loss: 1.8210\n",
      "2/100 Loss: 1.7531\n",
      "3/100 Loss: 1.7178\n",
      "4/100 Loss: 1.6811\n",
      "5/100 Loss: 1.6463\n",
      "6/100 Loss: 1.6155\n",
      "7/100 Loss: 1.5817\n",
      "8/100 Loss: 1.5445\n",
      "9/100 Loss: 1.5270\n"
     ]
    }
   ],
   "source": [
    "train_x = torch.from_numpy(X_poly1).float()\n",
    "train_y = torch.from_numpy(y1-1)\n",
    "\n",
    "net = Net()\n",
    "loss_fn = nn.CrossEntropyLoss()\n",
    "optimizer = torch.optim.Adam(net.parameters())\n",
    "out = net(train_x)\n",
    "for i in range(1000):\n",
    "    out = net(train_x)\n",
    "    loss = loss_fn(out, train_y.long())\n",
    "    optimizer.zero_grad()\n",
    "    loss.backward()\n",
    "    optimizer.step()\n",
    "    \n",
    "    if i%100 == 0:\n",
    "        print('%d/100 Loss: %.4f' % (i/100,loss.item()))"
   ]
  },
  {
   "cell_type": "code",
   "execution_count": 74,
   "metadata": {},
   "outputs": [],
   "source": [
    "test_x = torch.from_numpy(X_poly2).float()\n",
    "test_y = torch.from_numpy(y2-1)\n",
    "pred = net(test_x)\n",
    "_,pred = torch.max(pred,1)"
   ]
  },
  {
   "cell_type": "code",
   "execution_count": 75,
   "metadata": {},
   "outputs": [],
   "source": [
    "q = (pred-test_y)"
   ]
  },
  {
   "cell_type": "code",
   "execution_count": 76,
   "metadata": {},
   "outputs": [
    {
     "data": {
      "text/plain": [
       "tensor(331)"
      ]
     },
     "execution_count": 76,
     "metadata": {},
     "output_type": "execute_result"
    }
   ],
   "source": [
    "sum(q==0)"
   ]
  },
  {
   "cell_type": "code",
   "execution_count": null,
   "metadata": {},
   "outputs": [],
   "source": []
  }
 ],
 "metadata": {
  "kernelspec": {
   "display_name": "Python 3",
   "language": "python",
   "name": "python3"
  },
  "language_info": {
   "codemirror_mode": {
    "name": "ipython",
    "version": 3
   },
   "file_extension": ".py",
   "mimetype": "text/x-python",
   "name": "python",
   "nbconvert_exporter": "python",
   "pygments_lexer": "ipython3",
   "version": "3.6.3"
  }
 },
 "nbformat": 4,
 "nbformat_minor": 2
}
