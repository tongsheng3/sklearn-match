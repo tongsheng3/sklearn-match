{
 "cells": [
  {
   "cell_type": "markdown",
   "metadata": {},
   "source": [
    "# 引入需要的包"
   ]
  },
  {
   "cell_type": "code",
   "execution_count": null,
   "metadata": {},
   "outputs": [],
   "source": [
    "import torch\n",
    "import torch.nn as nn\n",
    "import torchvision\n",
    "import torch.nn.functional as F\n",
    "from torch.utils.data import Dataset, DataLoader\n",
    "from torchvision import transforms as T\n",
    "from PIL import Image\n",
    "import numpy as np\n",
    "import os\n",
    "import torch.nn.functional as F"
   ]
  },
  {
   "cell_type": "markdown",
   "metadata": {},
   "source": [
    "# 对创建模型并训练"
   ]
  },
  {
   "cell_type": "markdown",
   "metadata": {},
   "source": [
    "## 定义读测试集的方法"
   ]
  },
  {
   "cell_type": "code",
   "execution_count": null,
   "metadata": {},
   "outputs": [],
   "source": [
    "transform = T.Compose([\n",
    "#     T.Resize((227,227)), \n",
    "    T.ToTensor(),  # 将Image转成Tensor，归一化至 [0.0, 1.0]\n",
    "#     T.Normalize((0.5,0.5,0.5),(0.5,0.5,0.5))\n",
    "])\n",
    "\n",
    "\n",
    "class Codeimg(Dataset):\n",
    "    '''\n",
    "        这个类用来加载图片数据\n",
    "    \n",
    "    '''\n",
    "    \n",
    "    def __init__(self, root, transform=None):\n",
    "        self.root = root\n",
    "        self.paths = os.listdir(root)\n",
    "        self.transforms = transform   \n",
    "    \n",
    "    #进行读热编码\n",
    "    def one_hot(self, label):\n",
    "        num = ord(label)-48\n",
    "        if num>9:\n",
    "            num -= 7\n",
    "            if num>35:\n",
    "                num -= 6\n",
    "        return num\n",
    "        \n",
    "    def __getitem__(self, index):\n",
    "        image_path = self.paths[index//5]    \n",
    "        label = list(image_path)[-9+index%5]\n",
    "        label = self.one_hot(label)\n",
    "        \n",
    "        pil_image = Image.open(self.root+image_path)\n",
    "        if self.transforms:\n",
    "            data = self.transforms(pil_image)\n",
    "            data = data[:,:,30*(index%5):30*(index%5+1)]\n",
    "        else:\n",
    "            image_array = np.asarray(pil_image)\n",
    "            data = torch.from_numpy(image_array)\n",
    "            print(data.size())\n",
    "        return data, label\n",
    "\n",
    "    def __len__(self):\n",
    "        return len(self.paths)*4"
   ]
  },
  {
   "cell_type": "markdown",
   "metadata": {},
   "source": [
    "## 定义卷积神经网络模型"
   ]
  },
  {
   "cell_type": "code",
   "execution_count": 4,
   "metadata": {},
   "outputs": [],
   "source": [
    "\n",
    "class ResidualBlock(nn.Module):\n",
    "    '''\n",
    "        封装VGG模型重复的卷积块\n",
    "    '''\n",
    "    \n",
    "    def __init__(self, inchannel, outchannel, stride=1):\n",
    "        super(ResidualBlock, self).__init__()\n",
    "        self.left = nn.Sequential(\n",
    "            nn.Conv2d(inchannel, outchannel, kernel_size=3, stride=stride, padding=1, bias=False),\n",
    "            nn.BatchNorm2d(outchannel),\n",
    "            nn.ReLU(),\n",
    "            nn.Conv2d(outchannel, outchannel, kernel_size=3, stride=1, padding=1, bias=False),\n",
    "            nn.BatchNorm2d(outchannel)\n",
    "        )\n",
    "        self.shortcut = nn.Sequential()\n",
    "        if stride != 1 or inchannel != outchannel:\n",
    "            self.shortcut = nn.Sequential(\n",
    "                nn.Conv2d(inchannel, outchannel, kernel_size=1, stride=stride, bias=False),\n",
    "                nn.BatchNorm2d(outchannel)\n",
    "            )\n",
    "\n",
    "    def forward(self, x):\n",
    "        out = self.left(x)\n",
    "        out += self.shortcut(x)\n",
    "        out = F.relu(out)\n",
    "        return out\n",
    "\n",
    "\n",
    "class ResNet(nn.Module):\n",
    "    '''\n",
    "        定义VGG模型\n",
    "    '''\n",
    "    \n",
    "    \n",
    "    def __init__(self, ResidualBlock, num_classes=62):\n",
    "        super(ResNet, self).__init__()\n",
    "        self.inchannel = 64\n",
    "        self.conv1 = nn.Sequential(\n",
    "            nn.Conv2d(3, 64, kernel_size=3, stride=1, padding=1, bias=False),\n",
    "            nn.BatchNorm2d(64),\n",
    "            nn.ReLU(),\n",
    "        )\n",
    "        self.layer1 = self.make_layer(ResidualBlock, 64,  2, stride=1)\n",
    "        self.layer2 = self.make_layer(ResidualBlock, 128, 2, stride=2)\n",
    "        self.layer3 = self.make_layer(ResidualBlock, 256, 2, stride=2)\n",
    "#         self.layer4 = self.make_layer(ResidualBlock, 512, 2, stride=2)\n",
    "        self.fc = nn.Linear(1024, num_classes)\n",
    "\n",
    "    def make_layer(self, block, channels, num_blocks, stride):\n",
    "        strides = [stride] + [1] * (num_blocks - 1)\n",
    "        layers = []\n",
    "        for stride in strides:\n",
    "            layers.append(block(self.inchannel, channels, stride))\n",
    "            self.inchannel = channels\n",
    "        return nn.Sequential(*layers)\n",
    "\n",
    "    def forward(self, x):\n",
    "        out = self.conv1(x)\n",
    "        out = self.layer1(out)\n",
    "        out = self.layer2(out)\n",
    "        out = self.layer3(out)\n",
    "#         out = self.layer4(out)\n",
    "        out = F.avg_pool2d(out, 4)\n",
    "        out = out.view(out.size(0), -1)\n",
    "        out = self.fc(out)\n",
    "        return out\n",
    "\n",
    "def ResNet18():\n",
    "    return ResNet(ResidualBlock)"
   ]
  },
  {
   "cell_type": "markdown",
   "metadata": {},
   "source": [
    "## 加载数据"
   ]
  },
  {
   "cell_type": "code",
   "execution_count": 3,
   "metadata": {},
   "outputs": [],
   "source": [
    "data = Codeimg('./train/train/', transform)\n",
    "dataloader = DataLoader(data, batch_size=128, shuffle=True, drop_last=False)\n",
    "\n",
    "# dataiter = iter(dataloader) #是可迭代对象，iter生成迭代器\n",
    "# imgs, labels = next(dataiter) \n",
    "# i = torchvision.utils.make_grid(imgs, 8)\n",
    "# to_img = T.ToPILImage() #展示图片\n",
    "# to_img(i)"
   ]
  },
  {
   "cell_type": "markdown",
   "metadata": {},
   "source": [
    "## 初始模型"
   ]
  },
  {
   "cell_type": "code",
   "execution_count": 5,
   "metadata": {},
   "outputs": [],
   "source": [
    "cnn = ResNet18()\n",
    "# loss_fn = nn.MultiLabelSoftMarginLoss()\n",
    "# cnn.load_state_dict(torch.load('qt8.pt', map_location='cpu'))\n",
    "# cnn.eval()\n",
    "loss_fn = nn.CrossEntropyLoss()\n",
    "optimizer = torch.optim.Adam(cnn.parameters())\n",
    "cnn = cnn.cuda()"
   ]
  },
  {
   "cell_type": "markdown",
   "metadata": {},
   "source": [
    "## 训练模型"
   ]
  },
  {
   "cell_type": "code",
   "execution_count": null,
   "metadata": {
    "collapsed": true
   },
   "outputs": [
    {
     "name": "stdout",
     "output_type": "stream",
     "text": [
      "i=0 j=0 Loss: 0.10923\n",
      "i=0 j=100 Loss: 0.09372\n",
      "i=0 j=200 Loss: 0.05695\n",
      "i=0 j=300 Loss: 0.06419\n",
      "i=0 j=400 Loss: 0.12810\n",
      "i=0 j=500 Loss: 0.08804\n",
      "i=0 j=600 Loss: 0.10658\n",
      "i=1 j=0 Loss: 0.07217\n",
      "i=1 j=100 Loss: 0.06771\n",
      "i=1 j=200 Loss: 0.06915\n",
      "i=1 j=300 Loss: 0.07974\n"
     ]
    }
   ],
   "source": [
    "for i in range(2):  \n",
    "    for j,(img,labels) in enumerate(dataloader):\n",
    "        img = img.cuda()\n",
    "        labels = labels.cuda()\n",
    "        out = cnn(img)\n",
    "        loss = loss_fn(out, labels)\n",
    "        optimizer.zero_grad()\n",
    "        loss.backward()\n",
    "        optimizer.step()\n",
    "        if j % 100 == 0:\n",
    "            print('i=%d j=%d Loss: %.5f' %(i,j,loss.item()))"
   ]
  },
  {
   "cell_type": "code",
   "execution_count": 7,
   "metadata": {},
   "outputs": [],
   "source": [
    "torch.save(cnn.state_dict(),'qt8.pt')"
   ]
  },
  {
   "cell_type": "markdown",
   "metadata": {},
   "source": [
    "# 对数据进行预测"
   ]
  },
  {
   "cell_type": "markdown",
   "metadata": {},
   "source": [
    "## 定义读测试集的方法"
   ]
  },
  {
   "cell_type": "code",
   "execution_count": 1,
   "metadata": {},
   "outputs": [],
   "source": [
    "transform = T.Compose([\n",
    "#     T.Resize((227,227)), \n",
    "    T.ToTensor(),  # 将Image转成Tensor，归一化至 [0.0, 1.0]\n",
    "#     T.Normalize((0.5,0.5,0.5),(0.5,0.5,0.5))\n",
    "])\n",
    "\n",
    "class UnCodeimg(Dataset):\n",
    "    \n",
    "    def __init__(self, root, transform=None):\n",
    "        self.root = root\n",
    "        self.paths = os.listdir(root)\n",
    "        self.transforms = transform   \n",
    "        \n",
    "    def __getitem__(self, index):\n",
    "        image_path = self.paths[index//5]    \n",
    "        label = int(''.join(list(image_path)[:-4]))\n",
    "        pil_image = Image.open(self.root+image_path)\n",
    "        lab = list()\n",
    "        lab.append(label)\n",
    "        if self.transforms:\n",
    "            data = self.transforms(pil_image)\n",
    "            data = data[:,:,30*(index%5):30*(index%5+1)]\n",
    "            lab.append(index%5)\n",
    "        else:\n",
    "            image_array = np.asarray(pil_image)\n",
    "            data = torch.from_numpy(image_array)\n",
    "        return data, lab\n",
    "\n",
    "    def __len__(self):\n",
    "        return len(self.paths)*5"
   ]
  },
  {
   "cell_type": "code",
   "execution_count": 2,
   "metadata": {},
   "outputs": [],
   "source": [
    "#用于解码\n",
    "def uncode(code):\n",
    "    biao = list()\n",
    "    for i in range(len(code)):\n",
    "        if code[i]<10:\n",
    "            biao.append(chr(code[i]+48))\n",
    "        elif 10<=code[i]<36:\n",
    "            biao.append(chr(code[i]+55))\n",
    "        else: \n",
    "            biao.append(chr(code[i]+61))\n",
    "    return biao   "
   ]
  },
  {
   "cell_type": "markdown",
   "metadata": {},
   "source": [
    "## 都测试集进行预测"
   ]
  },
  {
   "cell_type": "code",
   "execution_count": 8,
   "metadata": {},
   "outputs": [],
   "source": [
    "cnn = ResNet18()\n",
    "cnn.load_state_dict(torch.load('qt.pt', map_location='cpu'))\n",
    "cnn.eval()\n",
    "\n",
    "data = UnCodeimg('test/test/', transform)\n",
    "dataloader = DataLoader(data, batch_size=128, shuffle=False, drop_last=False)\n",
    "\n",
    "cnn = cnn.cuda()\n",
    "chu = dict()\n",
    "print(len(data))\n",
    "for j,(imgs,labels) in enumerate(dataloader):   \n",
    "    imgs = imgs.cuda()\n",
    "    output = cnn(imgs)\n",
    "    output = output.view(-1, 62)\n",
    "    output = nn.functional.softmax(output, dim=1)\n",
    "    output = torch.argmax(output, dim=1)\n",
    "    out = uncode(output)\n",
    "    for i in range(len(labels[0])):\n",
    "        if int(labels[0][i]) not in chu.keys():\n",
    "            chu[int(labels[0][i])] = dict()\n",
    "        chu[int(labels[0][i])][int(labels[1][i])] = out[i]\n",
    "    if j%100==0:\n",
    "        print(j)"
   ]
  },
  {
   "cell_type": "markdown",
   "metadata": {},
   "source": [
    "## 将预测数据保存到CSV文件中"
   ]
  },
  {
   "cell_type": "code",
   "execution_count": 10,
   "metadata": {},
   "outputs": [],
   "source": [
    "labels = list()\n",
    "for i in range(len(chu)):\n",
    "    lis = [0,0,0,0,0]\n",
    "    for j in chu[i].keys():\n",
    "        lis[j] = chu[i][j]\n",
    "    labels.append(''.join(lis))\n",
    "y = np.array(labels)\n",
    "np.savetxt('yancai.csv',y,fmt=\"%s\")"
   ]
  }
 ],
 "metadata": {
  "kernelspec": {
   "display_name": "Python 3",
   "language": "python",
   "name": "python3"
  },
  "language_info": {
   "codemirror_mode": {
    "name": "ipython",
    "version": 3
   },
   "file_extension": ".py",
   "mimetype": "text/x-python",
   "name": "python",
   "nbconvert_exporter": "python",
   "pygments_lexer": "ipython3",
   "version": "3.6.3"
  }
 },
 "nbformat": 4,
 "nbformat_minor": 2
}
