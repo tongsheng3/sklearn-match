{
 "cells": [
  {
   "cell_type": "markdown",
   "metadata": {},
   "source": [
    "## 标准化"
   ]
  },
  {
   "cell_type": "code",
   "execution_count": 40,
   "metadata": {},
   "outputs": [],
   "source": [
    "import numpy as np\n",
    "\n",
    "def deal_with1(data, datac):\n",
    "    d = data[:,:-1]\n",
    "    avg = sum(d)/len(d)\n",
    "    s = np.sqrt(sum((d - avg)*(d - avg))/len(d))\n",
    "    return (datac-avg)/s\n",
    "\n",
    "def deal_with2(data, datac):\n",
    "    d = data[:,:-1]\n",
    "    min = np.min(d, axis=0)\n",
    "    max = np.max(d, axis=0)\n",
    "    return (datac-min)/(max-min)"
   ]
  },
  {
   "cell_type": "markdown",
   "metadata": {},
   "source": [
    "## 逻辑回归"
   ]
  },
  {
   "cell_type": "code",
   "execution_count": 35,
   "metadata": {},
   "outputs": [],
   "source": [
    "import numpy as np\n",
    "\n",
    "def logic(data, test, lerning, count):\n",
    "    s = np.mat(np.ones(np.size(data, 1)))\n",
    "    dataf,datac = np.mat(data[:,:-1]),np.mat(data[:,-1])\n",
    "    dataf = np.insert(dataf, np.size(dataf, 1),\n",
    "            values=np.ones(np.size(dataf, 0)), axis=1)\n",
    "    for i in range(count):\n",
    "        he = (datac - 1/np.array(1+np.exp(-s*dataf.T)))*dataf\n",
    "        s = s + lerning*he\n",
    "    test = np.insert(test, np.size(test, 1), values=np.ones(np.size(test, 0)), axis=1)\n",
    "    return sum((s*test.T)>0)\n",
    "\n"
   ]
  },
  {
   "cell_type": "markdown",
   "metadata": {},
   "source": [
    "## KNN"
   ]
  },
  {
   "cell_type": "code",
   "execution_count": 24,
   "metadata": {},
   "outputs": [],
   "source": [
    "def knn_forecast(data, test, k):\n",
    "    y = list()\n",
    "    for i in test:\n",
    "        x = (data[:,:-1] - i)**2\n",
    "        x = np.sum(x, axis=1)\n",
    "        x = np.array([x,data[:,-1]])\n",
    "        x = x[:,x[0,:].argsort()]\n",
    "        y.append(sum(x[1,:k]))\n",
    "    return sum(np.mat(y)>k/2)"
   ]
  },
  {
   "cell_type": "markdown",
   "metadata": {},
   "source": [
    "## 贝叶斯"
   ]
  },
  {
   "cell_type": "code",
   "execution_count": 30,
   "metadata": {},
   "outputs": [],
   "source": [
    "def Make_model(data):\n",
    "    clas = np.unique(data[:,-1])\n",
    "    zb = dict()\n",
    "    for i in clas:\n",
    "        datai = data[data[:,-1]==i]\n",
    "        avgi = sum(datai[:,:-1])/len(datai)\n",
    "        zb[i] ={\n",
    "            'avg': avgi,\n",
    "            'f': np.array(np.mat(datai[:,:-1]-avgi).T\n",
    "                *np.mat(datai[:,:-1]-avgi))/len(datai),\n",
    "            'num': len(datai)/len(data) \n",
    "        }\n",
    "\n",
    "    return zb\n",
    "\n",
    "    \n",
    "def bysyc(data, test):\n",
    "    bys = Make_model(data)\n",
    "    jg = dict()\n",
    "    for i in bys.keys():  \n",
    "        p = list()\n",
    "        for x in test:\n",
    "            px = 1/(2*np.pi*np.linalg.det(bys[i]['f']))*np.exp(-0.5\n",
    "                *np.mat(x-bys[i]['avg'])*np.linalg.inv(bys[i]['f'])\n",
    "                *np.mat(x-bys[i]['avg']).T)\n",
    "            p.append(float(px*bys[i]['num']))\n",
    "        jg[i] = np.array(p)\n",
    "    \n",
    "    return sum(np.mat(jg[0.0]-jg[1.0])<0)"
   ]
  },
  {
   "cell_type": "code",
   "execution_count": 3,
   "metadata": {},
   "outputs": [],
   "source": [
    "import numpy as np\n",
    "\n",
    "data = np.loadtxt('HTRU_2_train.csv', delimiter=',')\n",
    "test = np.loadtxt('HTRU_2_test.csv', delimiter=',')\n",
    "\n",
    "\n",
    "# logic = logic_forecast(data, test,0.001, 100)\n",
    "knn = knn_forecast(data, test, 11)\n",
    "# bys = bysyc(data, test)\n",
    "\n",
    "# zong = logic + knn + bys\n",
    "# zong = np.array(sum(zong>2).astype(np.int))\n",
    "# zong = zong.reshape(700,1)\n",
    "knn =  np.array(knn).reshape(700,1)\n",
    "\n",
    "np.savetxt('test.csv',knn)"
   ]
  },
  {
   "cell_type": "markdown",
   "metadata": {},
   "source": [
    "## 神经网络"
   ]
  },
  {
   "cell_type": "code",
   "execution_count": 69,
   "metadata": {},
   "outputs": [],
   "source": [
    "data = np.loadtxt('HTRU_2_train.csv', delimiter=',')\n",
    "data = data[data[:,-1].argsort()]\n",
    "index = np.arange(len(data))\n",
    "train = data[index[index%5!=0]]\n",
    "test = data[index[index%5==0]]\n",
    "\n",
    "train[:,:-1] = deal_with2(train, train[:,:-1])\n",
    "test[:,:-1] = deal_with2(train, test[:,:-1])\n",
    "knn = bysyc(train, test[:,:-1])"
   ]
  },
  {
   "cell_type": "code",
   "execution_count": 33,
   "metadata": {},
   "outputs": [],
   "source": [
    "data = np.loadtxt('HTRU_2_train.csv', delimiter=',')\n",
    "data = data[data[:,-1].argsort()]\n",
    "\n",
    "num = len(data)\n",
    "trains = list()\n",
    "tests = list()\n",
    "zong = set(range(num))\n",
    "for i in range(5):\n",
    "    t = set(range(i, num, 5))\n",
    "    c = zong-t\n",
    "    tests.append(data[list(t)])\n",
    "    trains.append(data[list(c)])\n"
   ]
  },
  {
   "cell_type": "code",
   "execution_count": 41,
   "metadata": {},
   "outputs": [],
   "source": [
    "p = list()\n",
    "for i in range(3,15):\n",
    "    z = list()\n",
    "    for j in range(5):\n",
    "        knn = knn_forecast(trains[j], tests[j][:,:-1], i)\n",
    "        yc = np.array(knn-tests[j][:,-1])\n",
    "        z.append(len(yc[yc==0])/len(tests[j]))\n",
    "    p.append(z)"
   ]
  },
  {
   "cell_type": "code",
   "execution_count": 49,
   "metadata": {},
   "outputs": [
    {
     "name": "stdout",
     "output_type": "stream",
     "text": [
      "0.7924528301886793\n",
      "0.7924528301886793\n",
      "0.7924528301886793\n",
      "0.7924528301886793\n",
      "0.7924528301886793\n"
     ]
    }
   ],
   "source": [
    "for i in range(5):\n",
    "    bys = bysyc(trains[j], tests[j][:,:-1])\n",
    "    yc = np.array(bys-tests[j][:,-1])\n",
    "    print(len(yc[yc==0])/len(tests[j]))"
   ]
  },
  {
   "cell_type": "code",
   "execution_count": 54,
   "metadata": {},
   "outputs": [],
   "source": [
    "data = np.loadtxt('HTRU_2_train.csv', delimiter=',')\n",
    "data = data[data[:,-1].argsort()]\n",
    "index = np.arange(len(data))\n",
    "train = data[index[index%5!=0]]\n",
    "test = data[index[index%5==0]]\n",
    "\n"
   ]
  },
  {
   "cell_type": "code",
   "execution_count": 62,
   "metadata": {},
   "outputs": [
    {
     "data": {
      "text/plain": [
       "array([9, 6, 9, 8, 7])"
      ]
     },
     "execution_count": 62,
     "metadata": {},
     "output_type": "execute_result"
    }
   ],
   "source": []
  },
  {
   "cell_type": "code",
   "execution_count": 11,
   "metadata": {},
   "outputs": [],
   "source": []
  },
  {
   "cell_type": "code",
   "execution_count": 31,
   "metadata": {},
   "outputs": [],
   "source": [
    "data = np.loadtxt('HTRU_2_train.csv', delimiter=',')\n",
    "data = data[data[:,-1].argsort()]\n",
    "index = np.arange(len(data))\n",
    "train = data[index[index%5!=0]]\n",
    "test = data[index[index%5==0]]\n",
    "\n",
    "# log = logic(train, test[:,:-1], 0.001, 100)\n",
    "log = bysyc(data, test[:,:-1])"
   ]
  },
  {
   "cell_type": "code",
   "execution_count": 32,
   "metadata": {},
   "outputs": [],
   "source": [
    "log = np.array(log)\n",
    "test = np.insert(test, np.size(test, 1), values=log, axis=1)"
   ]
  },
  {
   "cell_type": "code",
   "execution_count": 20,
   "metadata": {},
   "outputs": [],
   "source": [
    "import matplotlib.pyplot as plt"
   ]
  },
  {
   "cell_type": "code",
   "execution_count": 33,
   "metadata": {},
   "outputs": [
    {
     "data": {
      "image/png": "[encoded data removed]",
      "text/plain": [
       "<matplotlib.figure.Figure at 0x2563789ff60>"
      ]
     },
     "metadata": {
      "needs_background": "light"
     },
     "output_type": "display_data"
    }
   ],
   "source": [
    "test0 = test[test[:,-1]==0]\n",
    "test1 = test[test[:,-1]==1]\n",
    "\n",
    "plt.scatter(test0[:,0], test0[:,1], c='g', s=0.1)\n",
    "plt.scatter(test1[:,0], test1[:,1], c='r', s=0.1)\n",
    "plt.show()"
   ]
  },
  {
   "cell_type": "code",
   "execution_count": null,
   "metadata": {},
   "outputs": [],
   "source": []
  }
 ],
 "metadata": {
  "kernelspec": {
   "display_name": "Python 3",
   "language": "python",
   "name": "python3"
  },
  "language_info": {
   "codemirror_mode": {
    "name": "ipython",
    "version": 3
   },
   "file_extension": ".py",
   "mimetype": "text/x-python",
   "name": "python",
   "nbconvert_exporter": "python",
   "pygments_lexer": "ipython3",
   "version": "3.6.3"
  }
 },
 "nbformat": 4,
 "nbformat_minor": 2
}
