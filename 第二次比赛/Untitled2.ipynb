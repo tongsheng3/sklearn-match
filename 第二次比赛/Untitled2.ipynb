{
 "cells": [
  {
   "cell_type": "code",
   "execution_count": 61,
   "metadata": {},
   "outputs": [],
   "source": [
    "from sklearn.neighbors import KNeighborsClassifier\n",
    "from sklearn.impute import SimpleImputer as si\n",
    "from sklearn.feature_selection import SelectKBest\n",
    "from sklearn.feature_selection import chi2\n",
    "import numpy as np\n",
    "import pandas as pd"
   ]
  },
  {
   "cell_type": "code",
   "execution_count": 62,
   "metadata": {},
   "outputs": [],
   "source": [
    "trains = pd.read_csv('train.csv', header=None)\n",
    "\n",
    "x = pd.DataFrame(trains)\n",
    "x = x.replace('?',np.nan)\n",
    "\n",
    "imp = si(missing_values=np.nan ,strategy='most_frequent')\n",
    "train = imp.fit_transform(x).astype(np.int)\n",
    "\n",
    "# train_train = train[:-1000]\n",
    "# train_test = train[-1000:]\n",
    "\n",
    "\n"
   ]
  },
  {
   "cell_type": "code",
   "execution_count": 63,
   "metadata": {},
   "outputs": [],
   "source": [
    "train_train = train[:-500]\n",
    "train_test = train[-500:]\n",
    "\n",
    "model1 = SelectKBest(chi2, k=6)\n",
    "model1.fit(train_train[:,:-1], train_train[:,-1])\n",
    "train_train = model1.transform(train_train[:,:-1])\n",
    "train_test = model1.transform(train_test[:,:-1])\n"
   ]
  },
  {
   "cell_type": "code",
   "execution_count": 65,
   "metadata": {},
   "outputs": [
    {
     "data": {
      "text/plain": [
       "0.70399999999999996"
      ]
     },
     "execution_count": 65,
     "metadata": {},
     "output_type": "execute_result"
    }
   ],
   "source": [
    "from sklearn.neighbors import KNeighborsClassifier\n",
    "# 最好效果32\n",
    "\n",
    "knn = KNeighborsClassifier(n_neighbors=32)\n",
    "knn.fit(train_train[:,:-1],train_train[:,-1])\n",
    "knn.score(train_test[:,:-1],train_test[:,-1])"
   ]
  },
  {
   "cell_type": "code",
   "execution_count": 35,
   "metadata": {},
   "outputs": [
    {
     "data": {
      "text/plain": [
       "array([    4.11348844,  1817.68756381,  1102.42385902,   650.63012714,\n",
       "        1718.87699602,    28.8164721 ,   349.4863609 ,   298.44440359,\n",
       "         534.08840466,   600.31240866,   327.20486604,    43.06069056,\n",
       "          14.52256822])"
      ]
     },
     "execution_count": 35,
     "metadata": {},
     "output_type": "execute_result"
    }
   ],
   "source": [
    "from sklearn.feature_selection import SelectKBest\n",
    "from sklearn.feature_selection import chi2\n",
    "\n",
    "model1 = SelectKBest(chi2, k=6)\n",
    "model1.fit(train[:,:-1], train[:,-1])\n",
    "# test = model1.transform(train_test[:,:-1])\n",
    "model1.scores_"
   ]
  },
  {
   "cell_type": "code",
   "execution_count": 39,
   "metadata": {},
   "outputs": [
    {
     "data": {
      "text/plain": [
       "array([2, 5, 2, 4, 3, 4, 1, 1, 0, 2, 3, 7, 1, 1])"
      ]
     },
     "execution_count": 39,
     "metadata": {},
     "output_type": "execute_result"
    }
   ],
   "source": [
    "train[0]"
   ]
  },
  {
   "cell_type": "code",
   "execution_count": 37,
   "metadata": {},
   "outputs": [
    {
     "data": {
      "text/plain": [
       "array([[5, 2, 4, 3, 0, 2],\n",
       "       [5, 3, 5, 1, 0, 2],\n",
       "       [3, 5, 4, 1, 1, 1],\n",
       "       ..., \n",
       "       [1, 7, 3, 8, 0, 1],\n",
       "       [5, 1, 2, 6, 2, 3],\n",
       "       [3, 4, 4, 1, 0, 2]])"
      ]
     },
     "execution_count": 37,
     "metadata": {},
     "output_type": "execute_result"
    }
   ],
   "source": [
    "model1.transform(train[:,:-1])"
   ]
  },
  {
   "cell_type": "code",
   "execution_count": 52,
   "metadata": {},
   "outputs": [],
   "source": [
    "model1 = SelectKBest(chi2, k=6)\n",
    "train = model1.fit_transform(train[:,:-1], train[:,-1])\n"
   ]
  },
  {
   "cell_type": "code",
   "execution_count": 58,
   "metadata": {},
   "outputs": [
    {
     "data": {
      "text/plain": [
       "array([[5, 2, 4, 3, 0, 2],\n",
       "       [5, 3, 5, 1, 0, 2],\n",
       "       [3, 5, 4, 1, 1, 1],\n",
       "       ..., \n",
       "       [1, 7, 3, 8, 0, 1],\n",
       "       [5, 1, 2, 6, 2, 3],\n",
       "       [3, 4, 4, 1, 0, 2]])"
      ]
     },
     "execution_count": 58,
     "metadata": {},
     "output_type": "execute_result"
    }
   ],
   "source": [
    "train"
   ]
  },
  {
   "cell_type": "code",
   "execution_count": 56,
   "metadata": {},
   "outputs": [],
   "source": [
    "train_train = train[:-1000]\n",
    "train_test = train[-1000:]"
   ]
  },
  {
   "cell_type": "code",
   "execution_count": 57,
   "metadata": {},
   "outputs": [
    {
     "data": {
      "text/plain": [
       "0.69799999999999995"
      ]
     },
     "execution_count": 57,
     "metadata": {},
     "output_type": "execute_result"
    }
   ],
   "source": [
    "from sklearn.neighbors import KNeighborsClassifier\n",
    "\n",
    "knn = KNeighborsClassifier(n_neighbors=32)\n",
    "knn.fit(train_train[:,:-1],train_train[:,-1])\n",
    "knn.score(train_test[:,:-1],train_test[:,-1])"
   ]
  },
  {
   "cell_type": "code",
   "execution_count": null,
   "metadata": {},
   "outputs": [],
   "source": []
  }
 ],
 "metadata": {
  "kernelspec": {
   "display_name": "Python 3",
   "language": "python",
   "name": "python3"
  },
  "language_info": {
   "codemirror_mode": {
    "name": "ipython",
    "version": 3
   },
   "file_extension": ".py",
   "mimetype": "text/x-python",
   "name": "python",
   "nbconvert_exporter": "python",
   "pygments_lexer": "ipython3",
   "version": "3.6.3"
  }
 },
 "nbformat": 4,
 "nbformat_minor": 2
}
