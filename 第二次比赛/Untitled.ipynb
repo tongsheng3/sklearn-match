{
 "cells": [
  {
   "cell_type": "code",
   "execution_count": 76,
   "metadata": {},
   "outputs": [],
   "source": [
    "import pandas as pd\n",
    "import numpy as np\n",
    "import torch\n",
    "import torch.nn as nn\n",
    "from sklearn.preprocessing import Imputer\n",
    "from sklearn.impute import SimpleImputer as si"
   ]
  },
  {
   "cell_type": "code",
   "execution_count": 77,
   "metadata": {},
   "outputs": [],
   "source": [
    "train = pd.read_csv('train.csv', header=None)"
   ]
  },
  {
   "cell_type": "code",
   "execution_count": 78,
   "metadata": {},
   "outputs": [
    {
     "name": "stderr",
     "output_type": "stream",
     "text": [
      "d:\\python\\lib\\site-packages\\sklearn\\utils\\deprecation.py:58: DeprecationWarning: Class Imputer is deprecated; Imputer was deprecated in version 0.20 and will be removed in 0.22. Import impute.SimpleImputer from sklearn instead.\n",
      "  warnings.warn(msg, category=DeprecationWarning)\n"
     ]
    }
   ],
   "source": [
    "x = pd.DataFrame(train)\n",
    "x = x.replace('?',np.nan) #将其值替换\n",
    "\n",
    "# x = x.fillna(0) #用前一行的值对其进行填充\n",
    "# x = x.dropna(0,'any')\n",
    "# x = x.drop([0,8,6,12], axis=1)\n",
    "\n",
    "train = np.array(x, dtype=np.float)\n",
    "\n",
    "imp = Imputer(missing_values=np.nan, strategy='most_frequent', axis=1)\n",
    "imp.fit(train)\n",
    "train = imp.transform(train)\n",
    "\n",
    "train_test = train[-1000:]\n",
    "train_train = train[:-1000]\n",
    "\n",
    "train_x = torch.from_numpy(train_train[:,:-1]).float()\n",
    "train_y = torch.from_numpy(train_train[:,-1])-1"
   ]
  },
  {
   "cell_type": "code",
   "execution_count": 79,
   "metadata": {
    "collapsed": true
   },
   "outputs": [
    {
     "name": "stdout",
     "output_type": "stream",
     "text": [
      "{2: 3935, 1: 3259}\n",
      "{'5': 2942, '1': 2644, '3': 707, '2': 533, '4': 251}\n",
      "{3: 1791, 2: 1728, 4: 1273, 5: 739, 1: 692, 6: 528, 7: 443}\n",
      "{'4': 2461, '3': 1626, '5': 1240, '2': 827, '6': 769, '1': 206}\n",
      "{'1': 2249, '6': 1199, '4': 853, '3': 631, '2': 585, '8': 554, '5': 523, '9': 266, '7': 224}\n",
      "{'5': 4132, '2': 853, '4': 722, '3': 551, '1': 223}\n",
      "{1: 4360, 2: 1765, 3: 1069}\n",
      "{'2': 2130, '1': 1322, '3': 1320, '4': 1206, '5': 555, '6': 187, '7': 89, '9': 44, '8': 43}\n",
      "{0: 4612, 1: 1203, 2: 893, 3: 327, 4: 90, 5: 37, 6: 20, 7: 7, 9: 3, 8: 2}\n",
      "{'2': 2972, '1': 2567, '3': 1465}\n",
      "{'1': 4038, '3': 1914, '2': 520, '5': 318, '4': 118}\n",
      "{'7': 4654, '5': 964, '3': 742, '2': 373, '8': 182, '1': 126, '6': 82, '4': 14}\n",
      "{'1': 6239, '2': 459, '3': 217}\n",
      "{1: 1386, 8: 1047, 6: 888, 7: 785, 9: 706, 4: 650, 2: 620, 5: 578, 3: 534}\n"
     ]
    }
   ],
   "source": [
    "for i in range(x.shape[1]):\n",
    "    print(dict(x[i].value_counts()))"
   ]
  },
  {
   "cell_type": "code",
   "execution_count": 32,
   "metadata": {
    "collapsed": true
   },
   "outputs": [
    {
     "name": "stdout",
     "output_type": "stream",
     "text": [
      "{2: 616, 1: 386}\n",
      "{5: 834, 3: 54, 2: 50, 1: 44, 4: 20}\n",
      "{1: 440, 2: 368, 3: 96, 4: 38, 7: 23, 5: 20, 6: 17}\n",
      "{2: 398, 4: 246, 3: 180, 1: 105, 5: 48, 6: 25}\n",
      "{6: 585, 9: 90, 2: 85, 4: 75, 3: 63, 8: 32, 1: 31, 5: 29, 7: 12}\n",
      "{5: 623, 2: 143, 4: 113, 3: 79, 1: 44}\n",
      "{1: 937, 2: 34, 3: 31}\n",
      "{4: 258, 3: 241, 2: 145, 5: 140, 1: 115, 6: 58, 7: 19, 9: 13, 8: 13}\n",
      "{0: 401, 1: 257, 2: 206, 3: 93, 4: 24, 5: 11, 6: 7, 7: 2, 8: 1}\n",
      "{3: 636, 2: 306, 1: 60}\n",
      "{1: 613, 3: 285, 5: 47, 2: 46, 4: 11}\n",
      "{7: 586, 5: 178, 3: 101, 2: 65, 8: 35, 1: 20, 6: 13, 4: 4}\n",
      "{1: 851, 2: 97, 3: 54}\n",
      "{1: 1002}\n"
     ]
    }
   ],
   "source": [
    "one = pd.DataFrame(np.array(x[x[13] == 1], dtype=np.int))\n",
    "for i in range(x.shape[1]):\n",
    "    print(dict(one[i].value_counts()))\n",
    "\n",
    "512651403171\n",
    "144152201171\n",
    "134151202171"
   ]
  },
  {
   "cell_type": "code",
   "execution_count": 33,
   "metadata": {
    "collapsed": true
   },
   "outputs": [
    {
     "name": "stdout",
     "output_type": "stream",
     "text": [
      "{2: 488, 1: 372}\n",
      "{1: 554, 5: 175, 2: 69, 3: 49, 4: 13}\n",
      "{4: 241, 3: 208, 5: 150, 2: 114, 6: 94, 7: 42, 1: 11}\n",
      "{4: 330, 5: 220, 6: 158, 3: 122, 2: 27, 1: 3}\n",
      "{1: 454, 4: 81, 5: 70, 8: 65, 6: 63, 2: 63, 3: 42, 7: 13, 9: 9}\n",
      "{5: 603, 4: 94, 2: 84, 3: 59, 1: 20}\n",
      "{2: 397, 1: 291, 3: 172}\n",
      "{2: 358, 3: 176, 4: 159, 1: 79, 5: 56, 6: 17, 7: 8, 8: 5, 9: 2}\n",
      "{0: 558, 1: 158, 2: 100, 3: 30, 4: 6, 5: 5, 9: 1, 7: 1, 6: 1}\n",
      "{1: 562, 2: 209, 3: 89}\n",
      "{1: 635, 3: 113, 2: 86, 5: 24, 4: 2}\n",
      "{7: 643, 3: 78, 5: 60, 2: 39, 8: 18, 1: 13, 6: 8, 4: 1}\n",
      "{1: 822, 2: 26, 3: 12}\n",
      "{8: 860}\n"
     ]
    }
   ],
   "source": [
    "ba = pd.DataFrame(np.array(x[x[13] == 8], dtype=np.int))\n",
    "for i in range(x.shape[1]):\n",
    "    print(dict(ba[i].value_counts()))"
   ]
  },
  {
   "cell_type": "code",
   "execution_count": 34,
   "metadata": {
    "collapsed": true
   },
   "outputs": [
    {
     "name": "stdout",
     "output_type": "stream",
     "text": [
      "{2: 367, 1: 316}\n",
      "{1: 328, 5: 211, 3: 84, 2: 47, 4: 13}\n",
      "{3: 225, 4: 162, 2: 102, 5: 77, 6: 57, 7: 49, 1: 11}\n",
      "{4: 259, 3: 176, 5: 134, 6: 77, 2: 32, 1: 5}\n",
      "{1: 277, 3: 81, 4: 80, 8: 61, 5: 61, 2: 58, 6: 38, 7: 16, 9: 11}\n",
      "{5: 448, 2: 83, 4: 74, 3: 57, 1: 21}\n",
      "{1: 346, 2: 200, 3: 137}\n",
      "{2: 227, 1: 152, 3: 123, 4: 101, 5: 59, 6: 16, 8: 2, 7: 2, 9: 1}\n",
      "{0: 447, 1: 100, 2: 87, 3: 36, 4: 11, 5: 2}\n",
      "{2: 338, 1: 280, 3: 65}\n",
      "{1: 384, 3: 197, 2: 61, 5: 27, 4: 14}\n",
      "{7: 454, 5: 92, 3: 62, 2: 42, 8: 17, 1: 9, 6: 7}\n",
      "{1: 639, 2: 31, 3: 13}\n",
      "{6: 683}\n"
     ]
    }
   ],
   "source": [
    "one = pd.DataFrame(np.array(x[x[13] == 6], dtype=np.int))\n",
    "for i in range(x.shape[1]):\n",
    "    print(dict(one[i].value_counts()))"
   ]
  },
  {
   "cell_type": "code",
   "execution_count": 43,
   "metadata": {},
   "outputs": [],
   "source": [
    "class Net(nn.Module):\n",
    "    def __init__(self):\n",
    "        super(Net,self).__init__()\n",
    "        self.line = nn.Sequential(\n",
    "            nn.Linear(9,128),\n",
    "            nn.ReLU(),\n",
    "            nn.Linear(128,64),\n",
    "            nn.ReLU(),\n",
    "            nn.Linear(64,9)\n",
    "        )\n",
    "    \n",
    "    def forward(self,x):\n",
    "        out = self.line(x)\n",
    "        return out"
   ]
  },
  {
   "cell_type": "code",
   "execution_count": 48,
   "metadata": {},
   "outputs": [
    {
     "name": "stdout",
     "output_type": "stream",
     "text": [
      "0/100 Loss: 2.2297\n",
      "1/100 Loss: 1.5700\n",
      "2/100 Loss: 1.4346\n",
      "3/100 Loss: 1.3264\n",
      "4/100 Loss: 1.2924\n",
      "5/100 Loss: 1.2113\n",
      "6/100 Loss: 1.1413\n",
      "7/100 Loss: 1.1087\n",
      "8/100 Loss: 1.0930\n",
      "9/100 Loss: 1.1049\n"
     ]
    }
   ],
   "source": [
    "net = Net()\n",
    "loss_fn = nn.CrossEntropyLoss()\n",
    "optimizer = torch.optim.Adam(net.parameters(), 1e-2)\n",
    "out = net(train_x)\n",
    "for i in range(1000):\n",
    "    out = net(train_x)\n",
    "    loss = loss_fn(out, train_y.long())\n",
    "    optimizer.zero_grad()\n",
    "    loss.backward()\n",
    "    optimizer.step()\n",
    "    \n",
    "    if i%100 == 0:\n",
    "        print('%d/100 Loss: %.4f' % (i/100,loss.item()))"
   ]
  },
  {
   "cell_type": "code",
   "execution_count": 7,
   "metadata": {},
   "outputs": [],
   "source": [
    "test = pd.read_csv('test.csv', header=None)\n",
    "x = pd.DataFrame(test)\n",
    "x = x.replace('?',np.nan) #将其值替换\n",
    "x = x.fillna(0) #用前一行的值对其进行填充\n",
    "test = np.array(x, dtype=np.int)\n",
    "test_x = torch.from_numpy(test).float()\n",
    "pred = net(test_x)\n",
    "_,pred = torch.max(pred,1)\n"
   ]
  },
  {
   "cell_type": "code",
   "execution_count": 96,
   "metadata": {},
   "outputs": [],
   "source": [
    "y = pred.numpy()\n",
    "knn = np.array(y)\n",
    "np.savetxt('yc.csv',knn)"
   ]
  },
  {
   "cell_type": "code",
   "execution_count": 49,
   "metadata": {},
   "outputs": [],
   "source": [
    "test_x = torch.from_numpy(train_test[:,:-1]).float()\n",
    "test_y = torch.from_numpy(train_test[:,-1])\n",
    "# pred = net(test_x)\n",
    "# _,pred = torch.max(pred,1)"
   ]
  },
  {
   "cell_type": "code",
   "execution_count": 50,
   "metadata": {
    "scrolled": true
   },
   "outputs": [
    {
     "data": {
      "text/plain": [
       "tensor([ 1, -4, -2,  0,  0,  0,  1,  0,  0, -6,  0, -8,  3,  1,  2, -4, -1, -1,\n",
       "         0, -1,  1,  1, -2,  3,  3,  0, -6,  0,  0, -2,  3, -1, -1, -1, -2,  0,\n",
       "         2, -6,  0,  3, -2,  0,  3, -1,  1,  0, -2,  1, -1,  2, -1,  2,  0,  2,\n",
       "         0, -1,  1, -4,  2, -1,  0,  0,  3,  5, -4, -3,  0,  1, -5, -2, -1,  4,\n",
       "         3, -2, -1, -1,  2,  0, -3, -7,  1,  3,  0,  0, -1, -1, -7, -3,  0,  6,\n",
       "         4,  0, -4,  0, -2,  0,  0,  0, -1,  1,  1, -1, -5, -5,  5,  2, -1,  8,\n",
       "        -2, -3,  1,  2,  1,  3,  1,  2,  1,  1,  4, -3, -1, -1, -1,  0,  2,  0,\n",
       "         0, -1, -1,  2,  0,  6,  7, -1,  0, -3, -2, -2,  4,  2, -2,  6, -1, -4,\n",
       "         0,  0, -2, -1,  0, -6, -2,  0, -1,  0, -1,  2, -5,  0,  0,  0,  0, -1,\n",
       "        -1,  1,  2,  0,  0,  6,  2,  0,  3,  1,  0,  5,  2,  0,  1, -1,  0,  3,\n",
       "         1, -3,  4,  0,  0, -1,  0,  0,  0, -6,  2, -2, -3,  3,  0,  3, -2,  0,\n",
       "         1,  0, -3, -4,  1,  0, -1, -6,  0, -4,  1,  0,  0,  0,  3,  1,  3,  1,\n",
       "         0,  1,  0,  0,  1,  1,  2, -3, -4,  0, -1,  3,  0, -2, -3, -1,  0,  2,\n",
       "         0,  0,  4,  0,  0, -5,  0, -2, -2,  2,  0,  0,  3, -2,  0,  0,  0, -1,\n",
       "         0,  0,  4, -2,  1, -4,  2,  3,  4,  4, -6,  0,  5,  1,  0, -1,  3, -2,\n",
       "         0, -1,  0,  0, -6, -1,  0, -1,  1,  2,  1, -1, -3,  3,  0,  0, -1,  0,\n",
       "         0,  3,  0, -1,  0, -1,  6, -2,  1, -3,  1,  3,  3,  0, -1,  0,  0,  0,\n",
       "        -2,  0, -8, -6,  4,  2,  0,  3,  7,  1,  1, -5, -2, -2,  0,  0,  2, -4,\n",
       "         0,  4,  0,  4, -3,  0, -1, -2,  4, -7,  0,  0,  0,  6, -3, -1,  0,  1,\n",
       "         0,  0, -1,  0,  0,  1,  1, -4,  0,  1,  3, -1,  0,  2,  3, -5, -1, -5,\n",
       "        -3,  0,  2, -1,  1,  5, -1, -5,  2, -4,  1,  0,  4, -2,  0,  0,  1, -1,\n",
       "        -5, -2,  0,  3,  0, -2, -1,  1, -1,  1,  0,  1,  0, -7,  0,  1,  0,  3,\n",
       "         1,  2, -4, -1,  3,  2, -1,  3, -3,  0,  0, -2, -1, -1,  3,  1, -2,  0,\n",
       "         0, -1,  0, -3,  4,  0,  0,  4, -2,  1,  0,  3,  3, -1, -2, -1,  1,  6,\n",
       "         1,  0,  0,  2,  0,  2,  4,  0, -4,  3, -3,  2,  0,  6,  0,  1,  2, -1,\n",
       "         1,  0,  2,  0,  1,  0,  0,  3, -1,  1, -1,  0,  0,  0, -6, -4, -1, -4,\n",
       "         0,  0,  0,  0,  3,  0,  0,  0, -1,  0, -3,  1,  3,  2, -2,  4,  0,  0,\n",
       "        -1,  3,  0,  0, -2,  1,  3,  2, -5,  0,  0, -8, -3,  0,  0,  4, -5,  3,\n",
       "         0,  0,  3,  0,  2,  0, -4,  2,  2, -1,  6,  0,  0, -3, -4,  0,  2, -1,\n",
       "         0, -5, -1,  1,  1, -2, -4,  0,  0,  1, -3, -2, -2,  4,  0,  0,  1, -6,\n",
       "         2,  2, -4,  0,  0, -1,  1,  3, -2,  2,  1,  1, -2,  0,  1, -4,  1, -3,\n",
       "         0, -2,  1, -2,  1,  3,  0,  0,  4,  0, -1,  1,  0,  1,  1, -1, -1,  0,\n",
       "        -1,  1,  1,  2, -3,  0,  0,  0,  0,  0,  2, -1, -1,  0,  0,  2,  2,  0,\n",
       "        -1,  0,  6,  1, -1, -1, -1,  1, -2,  5,  1,  0,  0,  0, -1, -2,  2,  0,\n",
       "         0,  0,  4, -1,  0,  0,  0, -4, -2, -7,  1,  0,  0, -3,  3, -1,  0,  0,\n",
       "         0,  0,  1, -8,  3, -1, -5, -1,  2,  0,  0, -1,  1,  0,  4, -1,  0, -1,\n",
       "         0,  2, -2,  2,  2, -1,  3,  0,  0,  1,  0, -1,  1,  0,  0, -3, -1,  7,\n",
       "        -1, -1, -1,  0,  1, -1,  0,  0,  0, -4,  2, -7, -7, -2, -6,  0,  4, -1,\n",
       "         0,  3,  4, -2, -2, -2, -1, -8, -3,  5,  0,  4, -1, -1,  0, -2, -1,  1,\n",
       "        -2,  0,  0,  0, -3,  0,  0, -8,  6, -3,  0,  0,  2,  0, -3,  4,  1,  0,\n",
       "         2,  0,  0, -3,  1,  0,  0, -1, -1, -3,  2, -1, -1,  2, -8,  2,  1, -2,\n",
       "        -3,  7,  0,  0,  2, -3, -5, -1,  0,  3,  4,  1,  0, -3, -3, -2,  2,  0,\n",
       "        -6,  0, -1, -7,  1,  1,  8, -2,  6,  0,  8,  1,  0,  0, -7,  0,  3,  0,\n",
       "        -1,  0,  0,  3,  3,  0,  1,  1, -2,  0, -5,  0,  4, -1,  4,  1, -1,  1,\n",
       "         1,  0, -1,  4, -1,  0,  3, -1, -1,  1, -1,  0, -5,  0,  1,  2,  1,  0,\n",
       "         1,  0,  2,  4,  0,  0,  0,  1, -2, -3,  0,  3, -1, -1,  0, -1,  0, -5,\n",
       "        -6,  0,  0,  2,  3, -1, -3,  2,  3, -5, -1,  1,  0,  5,  0,  1,  0,  0,\n",
       "        -1,  8,  2, -2,  3,  1,  0, -2,  0,  0, -1,  0,  0,  1,  2,  0, -1, -2,\n",
       "         0,  0,  0,  0, -1,  0,  1,  0, -2,  1, -4, -4, -1,  2,  1, -1,  0,  3,\n",
       "         1,  3,  0,  0,  3, -3,  0, -1,  2,  5, -1,  1, -1, -1,  5,  1,  7,  2,\n",
       "         3,  2,  3, -5,  3,  1,  0, -7,  0, -3, -2,  5,  1, -1, -2, -1, -2,  0,\n",
       "        -2, -2,  0,  0,  0,  0, -2, -1, -1, -2, -1,  3, -1, -1, -2, -5,  0,  7,\n",
       "        -2,  1,  0, -1, -4, -2,  4, -2,  3, -4, -2,  0,  0,  1,  1,  2,  2,  0,\n",
       "         1, -3,  0,  0, -1,  0, -1,  1, -3,  0, -2, -8, -1, -2,  6, -1, -5, -3,\n",
       "         2,  0,  6,  1, -1, -1, -1,  0, -1,  0,  3,  4, -4,  2,  0, -1, -1,  3,\n",
       "         3, -4,  1,  0, -2, -1, -1,  3,  0,  0])"
      ]
     },
     "execution_count": 50,
     "metadata": {},
     "output_type": "execute_result"
    }
   ],
   "source": [
    "pred-test_y+1"
   ]
  },
  {
   "cell_type": "code",
   "execution_count": 80,
   "metadata": {
    "scrolled": true
   },
   "outputs": [
    {
     "data": {
      "text/plain": [
       "DecisionTreeClassifier(class_weight=None, criterion='gini', max_depth=None,\n",
       "            max_features=None, max_leaf_nodes=None,\n",
       "            min_impurity_decrease=0.0, min_impurity_split=None,\n",
       "            min_samples_leaf=1, min_samples_split=2,\n",
       "            min_weight_fraction_leaf=0.0, presort=False, random_state=None,\n",
       "            splitter='best')"
      ]
     },
     "execution_count": 80,
     "metadata": {},
     "output_type": "execute_result"
    }
   ],
   "source": [
    "from sklearn import tree\n",
    "\n",
    "clf = tree.DecisionTreeClassifier()\n",
    "clf.fit(train_x, train_y)"
   ]
  },
  {
   "cell_type": "code",
   "execution_count": 81,
   "metadata": {},
   "outputs": [
    {
     "data": {
      "text/plain": [
       "0.13400000000000001"
      ]
     },
     "execution_count": 81,
     "metadata": {},
     "output_type": "execute_result"
    }
   ],
   "source": [
    "test_x = torch.from_numpy(train_test[:,:-1]).float()\n",
    "test_y = torch.from_numpy(train_test[:,-1])\n",
    "clf.score(test_x,test_y)"
   ]
  },
  {
   "cell_type": "code",
   "execution_count": 82,
   "metadata": {
    "scrolled": true
   },
   "outputs": [
    {
     "data": {
      "text/plain": [
       "KNeighborsClassifier(algorithm='auto', leaf_size=30, metric='minkowski',\n",
       "           metric_params=None, n_jobs=None, n_neighbors=5, p=2,\n",
       "           weights='uniform')"
      ]
     },
     "execution_count": 82,
     "metadata": {},
     "output_type": "execute_result"
    }
   ],
   "source": [
    "from sklearn.neighbors import KNeighborsClassifier\n",
    "\n",
    "knn = KNeighborsClassifier(n_neighbors=5)\n",
    "knn.fit(train_train[:,:-1],train_train[:,-1])"
   ]
  },
  {
   "cell_type": "code",
   "execution_count": 83,
   "metadata": {
    "scrolled": true
   },
   "outputs": [
    {
     "data": {
      "text/plain": [
       "0.29099999999999998"
      ]
     },
     "execution_count": 83,
     "metadata": {},
     "output_type": "execute_result"
    }
   ],
   "source": [
    "knn.score(train_test[:,:-1],train_test[:,-1])"
   ]
  },
  {
   "cell_type": "code",
   "execution_count": 75,
   "metadata": {
    "collapsed": true
   },
   "outputs": [
    {
     "data": {
      "text/plain": [
       "RandomForestClassifier(bootstrap=True, class_weight=None, criterion='gini',\n",
       "            max_depth=None, max_features='auto', max_leaf_nodes=None,\n",
       "            min_impurity_decrease=0.0, min_impurity_split=None,\n",
       "            min_samples_leaf=1, min_samples_split=2,\n",
       "            min_weight_fraction_leaf=0.0, n_estimators=10, n_jobs=None,\n",
       "            oob_score=False, random_state=None, verbose=0,\n",
       "            warm_start=False)"
      ]
     },
     "execution_count": 75,
     "metadata": {},
     "output_type": "execute_result"
    }
   ],
   "source": [
    "from sklearn.ensemble import RandomForestClassifier\n",
    "\n",
    "rfc = RandomForestClassifier(n_estimators=10)\n",
    "rfc.fit(train_train[:,:-1],train_train[:,-1])"
   ]
  },
  {
   "cell_type": "code",
   "execution_count": null,
   "metadata": {},
   "outputs": [],
   "source": [
    "rfc.score()"
   ]
  }
 ],
 "metadata": {
  "kernelspec": {
   "display_name": "Python 3",
   "language": "python",
   "name": "python3"
  },
  "language_info": {
   "codemirror_mode": {
    "name": "ipython",
    "version": 3
   },
   "file_extension": ".py",
   "mimetype": "text/x-python",
   "name": "python",
   "nbconvert_exporter": "python",
   "pygments_lexer": "ipython3",
   "version": "3.6.3"
  }
 },
 "nbformat": 4,
 "nbformat_minor": 2
}
