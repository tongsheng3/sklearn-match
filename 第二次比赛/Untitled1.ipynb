{
 "cells": [
  {
   "cell_type": "code",
   "execution_count": 1,
   "metadata": {},
   "outputs": [],
   "source": [
    "import pandas as pd\n",
    "import numpy as np\n",
    "import torch\n",
    "import torch.nn as nn\n",
    "from sklearn.impute import SimpleImputer as si\n",
    "\n",
    "trains = pd.read_csv('train.csv', header=None)\n",
    "# trian = np.loadtxt('train.csv', dtype='str', delimiter=',')"
   ]
  },
  {
   "cell_type": "code",
   "execution_count": 2,
   "metadata": {},
   "outputs": [],
   "source": [
    "x = pd.DataFrame(trains)\n",
    "x = x.replace('?',np.nan)\n",
    "\n",
    "imp = si(missing_values=np.nan ,strategy='most_frequent')\n",
    "imp.fit(x)\n",
    "x = imp.transform(x)\n",
    "\n",
    "train = np.array(x, dtype=np.int)\n",
    "train = train.astype(np.int)\n",
    "# train_test = train[-1000:]\n",
    "# train_train = train[:-1000]\n",
    "\n",
    "# train_x = torch.from_numpy(train_train[:,:-1]).float()\n",
    "# train_y = torch.from_numpy(train_train[:,-1])-1"
   ]
  },
  {
   "cell_type": "code",
   "execution_count": 3,
   "metadata": {},
   "outputs": [],
   "source": [
    "# 性别、婚姻状况、年龄、教育程度、职业、工作年限、双收入、家庭成员、18岁以下、户主状况、家庭类型、民族类别、语言。\n",
    "\n",
    "train_ce = train.copy()\n",
    "\n",
    "# index = np.where(train_ce[:,-1]==1)\n",
    "# train_train = train_ce[index]\n",
    "a = train_ce[:,0] + train_ce[:,3]\n",
    "b = train_ce[:,0] + train_ce[:,4]\n",
    "c = train_ce[:,3] + train_ce[:,4]\n",
    "d = train_ce[:,3] + train_ce[:,5]\n",
    "e = train_ce[:,5]\n",
    "f = train_ce[:,3]\n",
    "j = train_ce[:,4]\n",
    "q = np.array([a,b,c,d,e,f,j,train_ce[:,-1]])\n",
    "train_ce = (q.T)\n",
    "train_ce = train_ce[:,[2,3,4,5,6,7]]\n",
    "train_test = train_ce[-1000:]\n",
    "train_train = train_ce[:-1000]"
   ]
  },
  {
   "cell_type": "code",
   "execution_count": 4,
   "metadata": {},
   "outputs": [
    {
     "data": {
      "text/plain": [
       "0.317"
      ]
     },
     "execution_count": 4,
     "metadata": {},
     "output_type": "execute_result"
    }
   ],
   "source": [
    "from sklearn import tree\n",
    "\n",
    "clf = tree.DecisionTreeClassifier()\n",
    "clf.fit(train_train[:,:-1],train_train[:,-1])\n",
    "\n",
    "test_x = torch.from_numpy(train_test[:,:-1]).float()\n",
    "test_y = torch.from_numpy(train_test[:,-1])\n",
    "clf.score(test_x,test_y)"
   ]
  },
  {
   "cell_type": "code",
   "execution_count": 136,
   "metadata": {
    "collapsed": true
   },
   "outputs": [
    {
     "name": "stdout",
     "output_type": "stream",
     "text": [
      "i=3 ;score=0.2580\n",
      "i=4 ;score=0.2620\n",
      "i=5 ;score=0.2620\n",
      "i=6 ;score=0.2600\n",
      "i=7 ;score=0.2590\n",
      "i=8 ;score=0.2600\n",
      "i=9 ;score=0.2610\n",
      "i=10 ;score=0.2610\n",
      "i=11 ;score=0.2570\n",
      "i=12 ;score=0.2570\n",
      "i=13 ;score=0.2630\n",
      "i=14 ;score=0.2640\n",
      "i=15 ;score=0.2680\n",
      "i=16 ;score=0.2700\n",
      "i=17 ;score=0.2820\n",
      "i=18 ;score=0.2780\n",
      "i=19 ;score=0.2660\n",
      "i=20 ;score=0.2700\n",
      "i=21 ;score=0.2720\n",
      "i=22 ;score=0.2670\n",
      "i=23 ;score=0.2760\n",
      "i=24 ;score=0.2760\n",
      "i=25 ;score=0.2890\n",
      "i=26 ;score=0.2920\n",
      "i=27 ;score=0.2980\n",
      "i=28 ;score=0.2890\n",
      "i=29 ;score=0.2920\n",
      "i=30 ;score=0.2920\n",
      "i=31 ;score=0.2900\n",
      "i=32 ;score=0.3000\n",
      "i=33 ;score=0.2980\n",
      "i=34 ;score=0.2910\n",
      "i=35 ;score=0.2760\n",
      "i=36 ;score=0.2880\n",
      "i=37 ;score=0.2810\n",
      "i=38 ;score=0.2840\n",
      "i=39 ;score=0.2760\n"
     ]
    }
   ],
   "source": [
    "from sklearn.neighbors import KNeighborsClassifier\n",
    "# 最好效果27\n",
    "for i in range(3,40):\n",
    "    knn = KNeighborsClassifier(n_neighbors=i)\n",
    "    knn.fit(train_train[:,:-1],train_train[:,-1])\n",
    "    print('i=%d ;score=%.4f' % (i,knn.score(train_test[:,:-1],train_test[:,-1])))"
   ]
  },
  {
   "cell_type": "code",
   "execution_count": 83,
   "metadata": {},
   "outputs": [],
   "source": [
    "class Net(nn.Module):\n",
    "    \n",
    "    def __init__(self):\n",
    "        super(Net,self).__init__()\n",
    "        self.line = nn.Sequential(\n",
    "            nn.Linear(13,128),\n",
    "            nn.ReLU(),‘’\n",
    "            nn.Linear(128,1)\n",
    "        )\n",
    "    \n",
    "    def forward(self, x):\n",
    "        out = self.line(x)\n",
    "        return out"
   ]
  },
  {
   "cell_type": "code",
   "execution_count": 85,
   "metadata": {},
   "outputs": [
    {
     "name": "stdout",
     "output_type": "stream",
     "text": [
      "0/100 Loss: 2.4995\n",
      "1/100 Loss: 1.9047\n",
      "2/100 Loss: 1.8405\n",
      "3/100 Loss: 1.8200\n",
      "4/100 Loss: 1.8073\n",
      "5/100 Loss: 1.7984\n",
      "6/100 Loss: 1.7917\n",
      "7/100 Loss: 1.7845\n",
      "8/100 Loss: 1.7783\n",
      "9/100 Loss: 1.7731\n"
     ]
    }
   ],
   "source": [
    "train_x = torch.from_numpy(train_train[:,:-1]).float()\n",
    "train_y = torch.from_numpy(train_train[:,-1])\n",
    "\n",
    "net = Net()\n",
    "loss_fn = nn.CrossEntropyLoss()\n",
    "optimizer = torch.optim.Adam(net.parameters())\n",
    "out = net(train_x)\n",
    "for i in range(1000):\n",
    "    out = net(train_x)\n",
    "    loss = loss_fn(out, train_y.long())\n",
    "    optimizer.zero_grad()\n",
    "    loss.backward()\n",
    "    optimizer.step()\n",
    "    \n",
    "    if i%100 == 0:\n",
    "        print('%d/100 Loss: %.4f' % (i/100,loss.item()))"
   ]
  },
  {
   "cell_type": "code",
   "execution_count": 65,
   "metadata": {
    "collapsed": true
   },
   "outputs": [
    {
     "data": {
      "image/png": "[encoded data removed]",
      "text/plain": [
       "<matplotlib.figure.Figure at 0x21fbc7d4048>"
      ]
     },
     "metadata": {
      "needs_background": "light"
     },
     "output_type": "display_data"
    },
    {
     "data": {
      "image/png": "[encoded data removed]",
      "text/plain": [
       "<matplotlib.figure.Figure at 0x21fbc7d4470>"
      ]
     },
     "metadata": {
      "needs_background": "light"
     },
     "output_type": "display_data"
    },
    {
     "data": {
      "image/png": "[encoded data removed]",
      "text/plain": [
       "<matplotlib.figure.Figure at 0x21fbb3e4278>"
      ]
     },
     "metadata": {
      "needs_background": "light"
     },
     "output_type": "display_data"
    },
    {
     "data": {
      "image/png": "[encoded data removed]",
      "text/plain": [
       "<matplotlib.figure.Figure at 0x21fbb0534a8>"
      ]
     },
     "metadata": {
      "needs_background": "light"
     },
     "output_type": "display_data"
    },
    {
     "data": {
      "image/png": "[encoded data removed]",
      "text/plain": [
       "<matplotlib.figure.Figure at 0x21fbb4652b0>"
      ]
     },
     "metadata": {
      "needs_background": "light"
     },
     "output_type": "display_data"
    },
    {
     "data": {
      "image/png": "[encoded data removed]",
      "text/plain": [
       "<matplotlib.figure.Figure at 0x21fbac9ae80>"
      ]
     },
     "metadata": {
      "needs_background": "light"
     },
     "output_type": "display_data"
    },
    {
     "data": {
      "image/png": "[encoded data removed]",
      "text/plain": [
       "<matplotlib.figure.Figure at 0x21fbab61860>"
      ]
     },
     "metadata": {
      "needs_background": "light"
     },
     "output_type": "display_data"
    },
    {
     "data": {
      "image/png": "[encoded data removed]",
      "text/plain": [
       "<matplotlib.figure.Figure at 0x21fb94274e0>"
      ]
     },
     "metadata": {
      "needs_background": "light"
     },
     "output_type": "display_data"
    },
    {
     "data": {
      "image/png": "[encoded data removed]",
      "text/plain": [
       "<matplotlib.figure.Figure at 0x21fb7fb6e10>"
      ]
     },
     "metadata": {
      "needs_background": "light"
     },
     "output_type": "display_data"
    },
    {
     "data": {
      "image/png": "[encoded data removed]",
      "text/plain": [
       "<matplotlib.figure.Figure at 0x21fb7dbc198>"
      ]
     },
     "metadata": {
      "needs_background": "light"
     },
     "output_type": "display_data"
    },
    {
     "data": {
      "image/png": "[encoded data removed]",
      "text/plain": [
       "<matplotlib.figure.Figure at 0x21fb7cfbd68>"
      ]
     },
     "metadata": {
      "needs_background": "light"
     },
     "output_type": "display_data"
    },
    {
     "data": {
      "image/png": "[encoded data removed]",
      "text/plain": [
       "<matplotlib.figure.Figure at 0x21fb55d2278>"
      ]
     },
     "metadata": {
      "needs_background": "light"
     },
     "output_type": "display_data"
    },
    {
     "data": {
      "image/png": "[encoded data removed]",
      "text/plain": [
       "<matplotlib.figure.Figure at 0x21fb5637dd8>"
      ]
     },
     "metadata": {
      "needs_background": "light"
     },
     "output_type": "display_data"
    }
   ],
   "source": [
    "import matplotlib.pyplot as plt\n",
    "\n",
    "for i in range(13):\n",
    "    plt.figure()\n",
    "    plt.scatter(train[:,i],train[:,-1],s = 20) \n",
    "    plt.show"
   ]
  },
  {
   "cell_type": "code",
   "execution_count": 2,
   "metadata": {},
   "outputs": [],
   "source": [
    "trains = pd.read_csv('train.csv', header=None)\n",
    "\n",
    "x = pd.DataFrame(trains)\n",
    "x = x.replace('?',np.nan)\n",
    "\n",
    "imp = si(missing_values=np.nan ,strategy='most_frequent')\n",
    "imp.fit(x)\n",
    "x = imp.transform(x)\n",
    "\n",
    "train = np.array(x, dtype=np.int)\n",
    "train = train.astype(np.int)\n",
    "\n",
    "train_ce = train.copy()\n",
    "\n",
    "e = train_ce[:,5]\n",
    "f = train_ce[:,3]\n",
    "j = train_ce[:,4]\n",
    "q = np.array([e,f,j,train_ce[:,-1]])\n",
    "\n",
    "train_ce = (q.T)"
   ]
  },
  {
   "cell_type": "code",
   "execution_count": 3,
   "metadata": {},
   "outputs": [],
   "source": [
    "tests = pd.read_csv('test.csv', header=None)\n",
    "\n",
    "x = pd.DataFrame(tests)\n",
    "x = x.replace('?',np.nan)\n",
    "\n",
    "imp = si(missing_values=np.nan ,strategy='most_frequent')\n",
    "imp.fit(x)\n",
    "x = imp.transform(x)\n",
    "\n",
    "test = np.array(x, dtype=np.int)\n",
    "test = test.astype(np.int)\n",
    "\n",
    "test_ce = test.copy()\n",
    "\n",
    "e = test_ce[:,5]\n",
    "f = test_ce[:,3]\n",
    "j = test_ce[:,4]\n",
    "p = np.array([e,f,j])\n",
    "\n",
    "test = (p.T)"
   ]
  },
  {
   "cell_type": "code",
   "execution_count": 4,
   "metadata": {},
   "outputs": [],
   "source": [
    "from sklearn import tree\n",
    "\n",
    "clf = tree.DecisionTreeClassifier()\n",
    "clf.fit(train_ce[:,:-1],train_ce[:,-1])\n",
    "\n",
    "\n",
    "y = clf.predict(test)\n",
    "yc = np.array(y)\n",
    "np.savetxt('yc.csv',yc)"
   ]
  },
  {
   "cell_type": "code",
   "execution_count": 9,
   "metadata": {},
   "outputs": [],
   "source": [
    "from sklearn.neighbors import KNeighborsClassifier\n",
    "# 最好效果32\n",
    "\n",
    "trains = pd.read_csv('train.csv', header=None)\n",
    "x = pd.DataFrame(trains)\n",
    "x = x.replace('?',np.nan)\n",
    "imp = si(missing_values=np.nan ,strategy='most_frequent')\n",
    "imp.fit(x)\n",
    "x = imp.transform(x)\n",
    "train = np.array(x, dtype=np.int)\n",
    "train = train.astype(np.int)\n",
    "\n",
    "\n",
    "tests = pd.read_csv('test.csv', header=None)\n",
    "x = pd.DataFrame(tests)\n",
    "x = x.replace('?',np.nan)\n",
    "imp = si(missing_values=np.nan ,strategy='most_frequent')\n",
    "imp.fit(x)\n",
    "x = imp.transform(x)\n",
    "test = np.array(x, dtype=np.int)\n",
    "test = test.astype(np.int)\n",
    "\n",
    "knn = KNeighborsClassifier(n_neighbors=32)\n",
    "knn.fit(train[:,:-1],train[:,-1])\n",
    "\n",
    "y = knn.predict(test)\n",
    "yc = np.array(y)\n",
    "np.savetxt('yc.csv',yc)"
   ]
  },
  {
   "cell_type": "code",
   "execution_count": 15,
   "metadata": {},
   "outputs": [],
   "source": [
    "#卡方检验的使用\n",
    "from sklearn.feature_selection import SelectKBest\n",
    "from sklearn.feature_selection import chi2\n",
    "\n",
    "trains = pd.read_csv('train.csv', header=None)\n",
    "x = pd.DataFrame(trains)\n",
    "x = x.replace('?',np.nan)\n",
    "imp = si(missing_values=np.nan ,strategy='most_frequent')\n",
    "imp.fit(x)\n",
    "x = imp.transform(x)\n",
    "train = np.array(x, dtype=np.int)\n",
    "train = train.astype(np.int)\n",
    "\n",
    "model1 = SelectKBest(chi2, k=6)\n",
    "train = model1.fit_transform(train[:,:-1], train[:,-1])\n",
    "\n",
    "train_test = train[-1000:]\n",
    "train_train = train[:-1000]\n",
    "\n"
   ]
  },
  {
   "cell_type": "code",
   "execution_count": 16,
   "metadata": {},
   "outputs": [
    {
     "data": {
      "text/plain": [
       "0.69799999999999995"
      ]
     },
     "execution_count": 16,
     "metadata": {},
     "output_type": "execute_result"
    }
   ],
   "source": [
    "from sklearn.neighbors import KNeighborsClassifier\n",
    "# 最好效果32\n",
    "\n",
    "knn = KNeighborsClassifier(n_neighbors=32)\n",
    "knn.fit(train_train[:,:-1],train_train[:,-1])\n",
    "knn.score(train_test[:,:-1],train_test[:,-1])\n"
   ]
  },
  {
   "cell_type": "code",
   "execution_count": null,
   "metadata": {},
   "outputs": [],
   "source": [
    "from sklearn.neighbors import KNeighborsClassifier\n",
    "from sklearn.feature_selection import SelectKBest\n",
    "from sklearn.feature_selection import chi2\n",
    "\n"
   ]
  }
 ],
 "metadata": {
  "kernelspec": {
   "display_name": "Python 3",
   "language": "python",
   "name": "python3"
  },
  "language_info": {
   "codemirror_mode": {
    "name": "ipython",
    "version": 3
   },
   "file_extension": ".py",
   "mimetype": "text/x-python",
   "name": "python",
   "nbconvert_exporter": "python",
   "pygments_lexer": "ipython3",
   "version": "3.6.3"
  }
 },
 "nbformat": 4,
 "nbformat_minor": 2
}
